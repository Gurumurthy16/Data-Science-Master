{
 "cells": [
  {
   "cell_type": "markdown",
   "id": "c6265eaf",
   "metadata": {},
   "source": [
    "Q1. Which keyword is used to create a function? Create a function to return a list of odd numbers in the \n",
    "range of 1 to 25.\n",
    "Q2. Why *args and **kwargs is used in some functions? Create a function each for *args and **kwargs to \n",
    "demonstrate their use.\n",
    "Q3.  What is an iterator in python? Name the method used to initialise the iterator object and the method \n",
    "used for iteration. Use these methods to print the first five elements of the given list [2, 4, 6, 8, 10, 12, 14, 16, \n",
    "18, 20].\n",
    "Q4.  What is a generator function in python? Why yield keyword is used? Give an example of a generator \n",
    "function.\n",
    "Q5. Create a generator function for prime numbers less than 1000. Use the next() method to print the \n",
    "first 20 prime numbers."
   ]
  },
  {
   "cell_type": "code",
   "execution_count": 1,
   "id": "503dd484",
   "metadata": {},
   "outputs": [
    {
     "name": "stdout",
     "output_type": "stream",
     "text": [
      "[1, 3, 5, 7, 9, 11, 13, 15, 17, 19, 21, 23, 25]\n"
     ]
    }
   ],
   "source": [
    "#Ans1 The keyword used to create a function in Python is def\n",
    "def get_odd_numbers():\n",
    "    odd_numbers = []\n",
    "    for num in range(1, 26):\n",
    "        if num % 2 != 0:\n",
    "            odd_numbers.append(num)\n",
    "    return odd_numbers\n",
    "\n",
    "# Call the function\n",
    "result = get_odd_numbers()\n",
    "print(result)"
   ]
  },
  {
   "cell_type": "code",
   "execution_count": null,
   "id": "4a8ea55b",
   "metadata": {},
   "outputs": [],
   "source": [
    "'''Ans2: In Python, *args and **kwargs are used as parameters in function definitions to allow the function to accept a variable\n",
    "number of arguments.#The *args parameter allows the function to accept any number of positional arguments as a tuple.\n",
    "It is useful when you want to pass an arbitrary number of arguments to a function without specifying them explicitly.\n",
    "Here's an example function that uses *args to concatenate the given arguments into a single string:'''"
   ]
  },
  {
   "cell_type": "code",
   "execution_count": 2,
   "id": "c8eeda2c",
   "metadata": {},
   "outputs": [
    {
     "name": "stdout",
     "output_type": "stream",
     "text": [
      "Hello World!\n"
     ]
    }
   ],
   "source": [
    "def concatenate_strings(*args):\n",
    "    result = \"\"\n",
    "    for arg in args:\n",
    "        result += arg\n",
    "    return result\n",
    "\n",
    "# Call the function\n",
    "output = concatenate_strings(\"Hello\", \" \", \"World\", \"!\")\n",
    "print(output)"
   ]
  },
  {
   "cell_type": "markdown",
   "id": "370ee12f",
   "metadata": {},
   "source": [
    "'''The **kwargs parameter allows the function to accept any number of keyword arguments as a dictionary. It is useful when you want to pass key-value pairs to a function without specifying them explicitly. Here's an example function that uses **kwargs to display the given key-value pairs:'''"
   ]
  },
  {
   "cell_type": "code",
   "execution_count": 3,
   "id": "6645edee",
   "metadata": {},
   "outputs": [
    {
     "name": "stdout",
     "output_type": "stream",
     "text": [
      "name = John\n",
      "age = 25\n",
      "city = New York\n"
     ]
    }
   ],
   "source": [
    "def display_kwargs(**kwargs):\n",
    "    for key, value in kwargs.items():\n",
    "        print(key, \"=\", value)\n",
    "\n",
    "# Call the function\n",
    "display_kwargs(name=\"John\", age=25, city=\"New York\")"
   ]
  },
  {
   "cell_type": "markdown",
   "id": "ff4dc9e9",
   "metadata": {},
   "source": [
    "'''And3:\n",
    "In Python, an iterator is an object that allows you to iterate over a collection of elements, such as a list, tuple, or dictionary. It provides a way to access the elements one by one, without needing to know the underlying implementation details of the collection. Iterators are used to implement the concept of iteration in Python.\n",
    "\n",
    "To initialize an iterator object, you can use the iter() function. This function takes an iterable object as an argument and returns an iterator object. The iterator object can then be used to iterate over the elements using the next() function.\n",
    "\n",
    "Here's an example that demonstrates how to initialize an iterator object and iterate over the first five elements of the given list [2, 4, 6, 8, 10, 12, 14, 16, 18, 20]:'''"
   ]
  },
  {
   "cell_type": "code",
   "execution_count": 4,
   "id": "d44491eb",
   "metadata": {},
   "outputs": [
    {
     "name": "stdout",
     "output_type": "stream",
     "text": [
      "2\n",
      "4\n",
      "6\n",
      "8\n",
      "10\n"
     ]
    }
   ],
   "source": [
    "my_list = [2, 4, 6, 8, 10, 12, 14, 16, 18, 20]\n",
    "my_iterator = iter(my_list)\n",
    "\n",
    "# Iterate over the first five elements\n",
    "for _ in range(5):\n",
    "    element = next(my_iterator)\n",
    "    print(element)\n"
   ]
  },
  {
   "cell_type": "markdown",
   "id": "8fbbcf9c",
   "metadata": {},
   "source": [
    "'''Ans4:\n",
    "In Python, a generator function is a special type of function that returns an iterator, which can be used to iterate over a sequence of values. Unlike regular functions that use the return statement to return a value and terminate the function, generator functions use the yield keyword to yield a value and temporarily suspend the function's execution. The yield keyword allows the generator function to generate a sequence of values on-the-fly, lazily producing one value at a time as requested by the iterator.\n",
    "\n",
    "The yield keyword is used in generator functions to define the values to be generated and returned by the iterator. When the yield statement is encountered, the function's state is saved, and the yielded value is returned. The function's execution is paused, but the function's local variables and execution context are retained. When the next value is requested by the iterator, the function resumes from where it left off and continues execution until it encounters the next yield statement or reaches the end of the function.\n",
    "\n",
    "Here's an example of a generator function that generates a sequence of even numbers:'''"
   ]
  },
  {
   "cell_type": "code",
   "execution_count": 5,
   "id": "be4eaac7",
   "metadata": {},
   "outputs": [
    {
     "name": "stdout",
     "output_type": "stream",
     "text": [
      "0\n",
      "2\n",
      "4\n",
      "6\n",
      "8\n"
     ]
    }
   ],
   "source": [
    "def generate_even_numbers(n):\n",
    "    for num in range(n):\n",
    "        if num % 2 == 0:\n",
    "            yield num\n",
    "\n",
    "# Create a generator object\n",
    "even_nums = generate_even_numbers(10)\n",
    "\n",
    "# Iterate over the generator object\n",
    "for num in even_nums:\n",
    "    print(num)\n"
   ]
  },
  {
   "cell_type": "code",
   "execution_count": 6,
   "id": "4de72835",
   "metadata": {},
   "outputs": [
    {
     "data": {
      "text/plain": [
       "'Ans5:\\ndef generate_primes():\\n    primes = []\\n    num = 2\\n    while True:\\n        if all(num % prime != 0 for prime in primes):\\n            yield num\\n            primes.append(num)\\n        num += 1\\n\\n# Create a generator object\\nprime_generator = generate_primes()\\n\\n# Print the first 20 prime numbers\\nfor _ in range(20):\\n    prime_number = next(prime_generator)\\n    print(prime_number)\\n'"
      ]
     },
     "execution_count": 6,
     "metadata": {},
     "output_type": "execute_result"
    }
   ],
   "source": [
    "'''Ans5:\n",
    "'''"
   ]
  },
  {
   "cell_type": "code",
   "execution_count": 7,
   "id": "56febc1f",
   "metadata": {},
   "outputs": [
    {
     "name": "stdout",
     "output_type": "stream",
     "text": [
      "2\n",
      "3\n",
      "5\n",
      "7\n",
      "11\n",
      "13\n",
      "17\n",
      "19\n",
      "23\n",
      "29\n",
      "31\n",
      "37\n",
      "41\n",
      "43\n",
      "47\n",
      "53\n",
      "59\n",
      "61\n",
      "67\n",
      "71\n"
     ]
    }
   ],
   "source": [
    "def generate_primes():\n",
    "    primes = []\n",
    "    num = 2\n",
    "    while True:\n",
    "        if all(num % prime != 0 for prime in primes):\n",
    "            yield num\n",
    "            primes.append(num)\n",
    "        num += 1\n",
    "\n",
    "# Create a generator object\n",
    "prime_generator = generate_primes()\n",
    "\n",
    "# Print the first 20 prime numbers\n",
    "for _ in range(20):\n",
    "    prime_number = next(prime_generator)\n",
    "    print(prime_number)"
   ]
  },
  {
   "cell_type": "markdown",
   "id": "72f7c1c9",
   "metadata": {},
   "source": [
    "'''Reason:\n",
    "In this code, the generate_primes() function is a generator function that generates prime numbers. It starts with an empty list primes to store the prime numbers found so far. The function uses an infinite loop (while True) to continuously search for prime numbers. For each num, it checks if it is divisible by any number in the primes list using a generator expression and the all() function. If none of the numbers in primes divide evenly into num, it is considered a prime number. The prime number is yielded using the yield keyword, and then it is appended to the primes list. Finally, num is incremented by 1 to continue searching for the next prime number.\n",
    "\n",
    "The generator object prime_generator is created from the generate_primes() generator function. We then use a for loop to iterate 20 times, and in each iteration, we use the next() function to get the next prime number from the generator object and print it.'''"
   ]
  }
 ],
 "metadata": {
  "kernelspec": {
   "display_name": "Python 3 (ipykernel)",
   "language": "python",
   "name": "python3"
  },
  "language_info": {
   "codemirror_mode": {
    "name": "ipython",
    "version": 3
   },
   "file_extension": ".py",
   "mimetype": "text/x-python",
   "name": "python",
   "nbconvert_exporter": "python",
   "pygments_lexer": "ipython3",
   "version": "3.9.12"
  }
 },
 "nbformat": 4,
 "nbformat_minor": 5
}
