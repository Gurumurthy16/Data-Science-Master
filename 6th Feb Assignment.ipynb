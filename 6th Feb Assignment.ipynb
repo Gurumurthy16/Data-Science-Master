{
 "cells": [
  {
   "cell_type": "markdown",
   "id": "8645b03b",
   "metadata": {},
   "source": [
    "Q1. Create a function which will take a list as an argument and return the product of all the numbers\n",
    "after creating a flat list.\n",
    "Use the below-given list as an argument for your function.\n",
    "list1 = [1,2,3,4, [44,55,66, True], False, (34,56,78,89,34), {1,2,3,3,2,1}, {1:34, \"key2\": [55, 67, 78, 89], 4: (45,22, 61, 34)}, [56, 'data science'], 'Machine Learning']\n",
    "Note: you must extract numeric keys and values of the dictionary also.\n",
    "\n",
    "Q2. Write a python program for encrypting a message sent to you by your friend. The logic of encryption\n",
    "should be such that, for a the output should be z. For b, the output should be y. For c, the output should be x respectively. Also, the whitespace should be replaced with a dollar sign. Keep the punctuation marks unchanged.\n"
   ]
  },
  {
   "cell_type": "code",
   "execution_count": 6,
   "id": "e818a01a",
   "metadata": {},
   "outputs": [
    {
     "name": "stdout",
     "output_type": "stream",
     "text": [
      "Product of numbers in the list (ignoring False): 0\n"
     ]
    }
   ],
   "source": [
    "def product_of_numbers(input_list):\n",
    "    # Function to flatten a nested list\n",
    "    def flatten(lst):\n",
    "        flat_list = []\n",
    "        for item in lst:\n",
    "            if isinstance(item, list):\n",
    "                flat_list.extend(flatten(item))\n",
    "            elif isinstance(item, dict):\n",
    "                for key, value in item.items():\n",
    "                    if isinstance(key, (int, float)):\n",
    "                        flat_list.append(key)\n",
    "                    if isinstance(value, (int, float)):\n",
    "                        flat_list.append(value)\n",
    "            elif isinstance(item, (int, float)):\n",
    "                flat_list.append(item)\n",
    "        return flat_list\n",
    "\n",
    "    flat_list = flatten(input_list)\n",
    "    product = 1\n",
    "\n",
    "    for item in flat_list:\n",
    "        if isinstance(item, (int, float)):\n",
    "            product *= item\n",
    "\n",
    "    return product\n",
    "\n",
    "# Test the function with the given list\n",
    "list1 = [1, 2, 3, 4, [44, 55, 66, True], False, (34, 56, 78, 89, 34), {1, 2, 3, 3, 2, 1}, {1: 34, \"key2\": [55, 67, 78, 89], 4: (45, 22, 61, 34)}, [56, 'data science'], 'Machine Learning']\n",
    "\n",
    "result = product_of_numbers(list1)\n",
    "print(\"Product of numbers in the list (ignoring False):\", result)\n"
   ]
  },
  {
   "cell_type": "code",
   "execution_count": 2,
   "id": "77eb0750",
   "metadata": {},
   "outputs": [
    {
     "name": "stdout",
     "output_type": "stream",
     "text": [
      "Original Message: abc ABC, xyz XYZ\n",
      "Encrypted Message: zyx$ZYX,$cba$CBA\n"
     ]
    }
   ],
   "source": [
    "#Q2\n",
    "def encrypt_message(message):\n",
    "    encrypted_message = \"\"\n",
    "    for char in message:\n",
    "        if char.isalpha():\n",
    "            # Convert letters to their respective counterparts\n",
    "            if char.islower():\n",
    "                encrypted_char = chr(ord('z') - (ord(char) - ord('a')))\n",
    "            else:\n",
    "                encrypted_char = chr(ord('Z') - (ord(char) - ord('A')))\n",
    "        else:\n",
    "            encrypted_char = char  # Keep non-alphabetic characters unchanged\n",
    "        encrypted_message += encrypted_char\n",
    "    return encrypted_message.replace(' ', '$')\n",
    "\n",
    "# Test the encryption function\n",
    "original_message = \"abc ABC, xyz XYZ\"\n",
    "encrypted_message = encrypt_message(original_message)\n",
    "print(\"Original Message:\", original_message)\n",
    "print(\"Encrypted Message:\", encrypted_message)"
   ]
  },
  {
   "cell_type": "code",
   "execution_count": null,
   "id": "5f02084c",
   "metadata": {},
   "outputs": [],
   "source": []
  }
 ],
 "metadata": {
  "kernelspec": {
   "display_name": "Python 3 (ipykernel)",
   "language": "python",
   "name": "python3"
  },
  "language_info": {
   "codemirror_mode": {
    "name": "ipython",
    "version": 3
   },
   "file_extension": ".py",
   "mimetype": "text/x-python",
   "name": "python",
   "nbconvert_exporter": "python",
   "pygments_lexer": "ipython3",
   "version": "3.11.4"
  }
 },
 "nbformat": 4,
 "nbformat_minor": 5
}
