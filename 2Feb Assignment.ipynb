{
 "cells": [
  {
   "cell_type": "markdown",
   "id": "df1e5df8",
   "metadata": {},
   "source": [
    "Q1 What are the characteristics of the tuples? Is tuple immutable?\n",
    "Tuples in Python have the following characteristics:\n",
    "\n",
    "1. Immutable: Tuples are immutable, which means their elements cannot be modified after the tuple is created. Once a tuple is defined, you cannot add, remove, or change elements in it. However, if a tuple contains mutable objects like lists, those objects can be modified.\n",
    "2. Ordered: Tuples maintain the order of the elements. The position of each element in the tuple is fixed and can be accessed using indexing.\n",
    "3. Heterogeneous: Tuples can contain elements of different data types. For example, a tuple can have a combination of integers, strings, floats, or even other tuples.\n",
    "4. Accessed by Index: Elements within a tuple can be accessed using indexing. Each element has a unique index starting from 0. Negative indexing is also supported to access elements from the end of the tuple.\n",
    "5. Iterable: Tuples can be iterated over using loops or comprehensions. This allows you to process each element of the tuple sequentially.\n",
    "6. Fixed Size: Tuples have a fixed size once they are created. You cannot add or remove elements from a tuple. To modify a tuple, you need to create a new tuple with the desired changes."
   ]
  },
  {
   "cell_type": "markdown",
   "id": "4818eb1c",
   "metadata": {},
   "source": [
    "Q2 What are the two tuple methods in python? Give an example of each method. Give a reason why \n",
    "tuples have only two in-built methods as compared to Lists.\n",
    "\n",
    "In Python, tuples have two built-in methods:\n",
    "\n",
    "1. `count()`: The `count()` method returns the number of occurrences of a specified value in a tuple. It takes a single argument, which is the value to be counted. Here's an example:\n",
    "\n",
    "```python\n",
    "my_tuple = (1, 2, 3, 2, 4, 2)\n",
    "count = my_tuple.count(2)\n",
    "\n",
    "print(count)  # Output: 3\n",
    "```\n",
    "In this example, the `count()` method is used to count the occurrences of the value `2` in the `my_tuple` tuple. It returns the count as `3`.\n",
    "\n",
    "2. `index()`: The `index()` method returns the index of the first occurrence of a specified value in a tuple. It takes a single argument, which is the value to be searched. Here's an example:\n",
    "\n",
    "```python\n",
    "my_tuple = ('a', 'b', 'c', 'b', 'd')\n",
    "index = my_tuple.index('b')\n",
    "\n",
    "print(index)  # Output: 1\n",
    "```\n",
    "\n",
    "In this example, the `index()` method is used to find the index of the first occurrence of the value `'b'` in the `my_tuple` tuple. It returns the index as `1`.\n",
    "\n",
    "Tuples have only two built-in methods (`count()` and `index()`) compared to lists because tuples are designed to be immutable, meaning they cannot be modified once created. Since tuples cannot be changed, there is no need for methods that add or remove elements, like `append()` or `remove()`, which are available in lists. The limited number of methods for tuples reflects their purpose as immutable collections of items."
   ]
  },
  {
   "cell_type": "code",
   "execution_count": 1,
   "id": "d619b249",
   "metadata": {},
   "outputs": [
    {
     "name": "stdout",
     "output_type": "stream",
     "text": [
      "3\n"
     ]
    }
   ],
   "source": [
    "'''Q3.  Which collection datatypes in python do not allow duplicate items? Write a code using a set to remove \n",
    "duplicates from the given list.'''\n",
    "List = [1, 1, 1, 2, 1, 3, 1, 4, 2, 1, 2, 2, 2, 3, 2, 4, 3, 1, 3, 2, 3, 3, 3, 4, 4, 1, 4, 2, 4, 3, 4, 4]"
   ]
  },
  {
   "cell_type": "code",
   "execution_count": 2,
   "id": "260e676b",
   "metadata": {},
   "outputs": [
    {
     "name": "stdout",
     "output_type": "stream",
     "text": [
      "[1, 2, 3, 4]\n"
     ]
    }
   ],
   "source": [
    "#Ans:\n",
    "'''The collection datatype in Python that does not allow duplicate items is a set. Sets are unordered collections of unique\n",
    "elements. To remove duplicates from a list, you can convert the list to a set,\n",
    "which automatically removes duplicates, and then convert it back to a list if needed.'''\n",
    "my_list = [1, 1, 1, 2, 1, 3, 1, 4, 2, 1, 2, 2, 2, 3, 2, 4, 3, 1, 3, 2, 3, 3, 3, 4, 4, 1, 4, 2, 4, 3, 4, 4]\n",
    "unique_list = list(set(my_list))\n",
    "print(unique_list)\n"
   ]
  },
  {
   "cell_type": "markdown",
   "id": "c84d4cd8",
   "metadata": {},
   "source": [
    "Q4. Explain the difference between the union() and update() methods for a set. Give an example of each method.\n",
    "\n",
    "Both the `union()` and `update()` methods are used to combine sets in Python, but they differ in how they handle the operation and the resulting set.\n",
    "\n",
    "1. `union()` method:\n",
    "   - The `union()` method returns a new set that contains all the unique elements from both sets.\n",
    "   - It does not modify the original sets; instead, it creates and returns a new set.\n",
    "   - The `union()` method can also be achieved using the `|` operator.\n",
    "   \n",
    "   Here's an example using `union()`:\n",
    "   ```python\n",
    "   set1 = {1, 2, 3}\n",
    "   set2 = {3, 4, 5}\n",
    "\n",
    "   union_set = set1.union(set2)\n",
    "\n",
    "   print(union_set)  # Output: {1, 2, 3, 4, 5}\n",
    "   ```\n",
    "   In this example, the `union()` method is used to create a new set `union_set` that contains all the unique elements from `set1` and `set2`.\n",
    "\n",
    "2. `update()` method:\n",
    "   - The `update()` method modifies the original set by adding elements from another set or an iterable.\n",
    "   - It updates the set in-place and does not return a new set.\n",
    "   \n",
    "   Here's an example using `update()`:\n",
    "   ```python\n",
    "   set1 = {1, 2, 3}\n",
    "   set2 = {3, 4, 5}\n",
    "\n",
    "   set1.update(set2)\n",
    "\n",
    "   print(set1)  # Output: {1, 2, 3, 4, 5}\n",
    "   ```\n",
    "   In this example, the `update()` method is used to update `set1` by adding the elements from `set2`.\n",
    "\n",
    "The key difference between `union()` and `update()` is that `union()` returns a new set without modifying the original sets, while `update()` modifies the original set in-place.\n",
    "\n",
    "Additionally, it's worth noting that the `union()` method allows you to combine multiple sets by providing them as arguments, whereas the `update()` method can also accept other iterables, such as lists or tuples, to add their elements to the set."
   ]
  },
  {
   "cell_type": "markdown",
   "id": "060d8188",
   "metadata": {},
   "source": [
    "Q5. What is a dictionary? Give an example. Also, state whether a dictionary is ordered or unordered. \n",
    "\n",
    "In Python, a dictionary is a collection of key-value pairs. It is an unordered collection because the elements in a dictionary are not stored in any specific order. Instead, they are accessed and retrieved based on their associated keys. Dictionaries are implemented as hash tables, which allows for efficient lookup, insertion, and deletion operations.\n",
    "\n",
    "Each key in a dictionary must be unique, and it is used to access its corresponding value. The values in a dictionary can be of any data type, such as integers, strings, lists, or even other dictionaries. Dictionaries are enclosed in curly braces `{}` and consist of comma-separated key-value pairs.\n",
    "\n",
    "Here's an example of a dictionary:\n",
    "\n",
    "```python\n",
    "student = {\n",
    "    'name': 'John',\n",
    "    'age': 20,\n",
    "    'grade': 'A',\n",
    "    'subjects': ['Math', 'Science', 'English']\n",
    "}\n",
    "```\n",
    "\n",
    "In this example, we have a dictionary called `student`. It contains information about a student, such as their name, age, grade, and a list of subjects they are studying. The keys in the dictionary (`name`, `age`, `grade`, `subjects`) are used to access their respective values (`'John'`, `20`, `'A'`, `['Math', 'Science', 'English']`).\n",
    "\n",
    "To access the values in a dictionary, you can use the keys within square brackets or use the `get()` method. For example:\n",
    "\n",
    "```python\n",
    "print(student['name'])  # Output: 'John'\n",
    "print(student.get('grade'))  # Output: 'A'\n",
    "```\n",
    "\n",
    "In summary, a dictionary in Python is an unordered collection of key-value pairs, where each key is unique and used to access its associated value. It provides a convenient way to store and retrieve data based on specific identifiers (keys)."
   ]
  },
  {
   "cell_type": "code",
   "execution_count": 1,
   "id": "204c0090",
   "metadata": {},
   "outputs": [
    {
     "name": "stdout",
     "output_type": "stream",
     "text": [
      "value1\n",
      "value4\n"
     ]
    }
   ],
   "source": [
    "'''Q6  Can we create a nested dictionary? If so, please give an example by creating a simple one-level \n",
    "nested dictionary.\n",
    "Yes, it is possible to create a nested dictionary in Python. Here's an example of a simple one-level nested dictionary:'''\n",
    "\n",
    "#Creating a nested dictionary\n",
    "nested_dict = {\n",
    "    'outer_key1': {\n",
    "        'inner_key1': 'value1',\n",
    "        'inner_key2': 'value2'\n",
    "    },\n",
    "    'outer_key2': {\n",
    "        'inner_key3': 'value3',\n",
    "        'inner_key4': 'value4'\n",
    "    }\n",
    "}\n",
    "\n",
    "#Accessing values in the nested dictionary\n",
    "print(nested_dict['outer_key1']['inner_key1'])  # Output: value1\n",
    "print(nested_dict['outer_key2']['inner_key4'])  # Output: value4\n"
   ]
  },
  {
   "cell_type": "markdown",
   "id": "6119eea6",
   "metadata": {},
   "source": [
    "Q7. Using setdefault() method, create key named topics in the given dictionary and also add the value of \n",
    "the key as this list ['Python', 'Machine Learning’, 'Deep Learning']\n",
    "dict1 = {'language' : 'Python', 'course': 'Data Science Masters'}"
   ]
  },
  {
   "cell_type": "code",
   "execution_count": 2,
   "id": "341ba3b1",
   "metadata": {},
   "outputs": [
    {
     "name": "stdout",
     "output_type": "stream",
     "text": [
      "{'language': 'Python', 'course': 'Data Science Masters', 'topics': ['Python', 'Machine Learning', 'Deep Learning']}\n"
     ]
    }
   ],
   "source": [
    "dict1 = {'language': 'Python', 'course': 'Data Science Masters'}\n",
    "dict1.setdefault('topics', ['Python', 'Machine Learning', 'Deep Learning'])\n",
    "print(dict1)\n"
   ]
  },
  {
   "cell_type": "markdown",
   "id": "84b66711",
   "metadata": {},
   "source": [
    "Q8. What are the three view objects in dictionaries? Use the three in-built methods in python to display \n",
    "these three view objects for the given dictionary.\n",
    "\n",
    "dict1 = {'Sport': 'Cricket' , 'Teams': ['India', 'Australia', 'England', 'South Africa', 'Sri Lanka', 'New Zealand']}"
   ]
  },
  {
   "cell_type": "markdown",
   "id": "0a3ac4a9",
   "metadata": {},
   "source": [
    "In Python, dictionaries provide three built-in methods that return view objects. These view objects provide dynamic views of the dictionary's keys, values, and key-value pairs. The three view objects are:\n",
    "\n",
    "1. `dict_keys`: This view object represents the keys of the dictionary.\n",
    "2. `dict_values`: This view object represents the values of the dictionary.\n",
    "3. `dict_items`: This view object represents the key-value pairs of the dictionary.\n",
    "\n",
    "Here's how you can use these methods to display the view objects for the given dictionary `dict1`:"
   ]
  },
  {
   "cell_type": "code",
   "execution_count": 3,
   "id": "2bd8a031",
   "metadata": {},
   "outputs": [
    {
     "name": "stdout",
     "output_type": "stream",
     "text": [
      "dict_keys(['Sport', 'Teams'])\n",
      "dict_values(['Cricket', ['India', 'Australia', 'England', 'South Africa', 'Sri Lanka', 'New Zealand']])\n",
      "dict_items([('Sport', 'Cricket'), ('Teams', ['India', 'Australia', 'England', 'South Africa', 'Sri Lanka', 'New Zealand'])])\n"
     ]
    }
   ],
   "source": [
    "dict1 = {'Sport': 'Cricket', 'Teams': ['India', 'Australia', 'England', 'South Africa', 'Sri Lanka', 'New Zealand']}\n",
    "\n",
    "keys_view = dict1.keys()\n",
    "values_view = dict1.values()\n",
    "items_view = dict1.items()\n",
    "\n",
    "print(keys_view)\n",
    "print(values_view)\n",
    "print(items_view)"
   ]
  },
  {
   "cell_type": "code",
   "execution_count": null,
   "id": "e84c4dbc",
   "metadata": {},
   "outputs": [],
   "source": []
  }
 ],
 "metadata": {
  "kernelspec": {
   "display_name": "Python 3 (ipykernel)",
   "language": "python",
   "name": "python3"
  },
  "language_info": {
   "codemirror_mode": {
    "name": "ipython",
    "version": 3
   },
   "file_extension": ".py",
   "mimetype": "text/x-python",
   "name": "python",
   "nbconvert_exporter": "python",
   "pygments_lexer": "ipython3",
   "version": "3.9.12"
  }
 },
 "nbformat": 4,
 "nbformat_minor": 5
}
