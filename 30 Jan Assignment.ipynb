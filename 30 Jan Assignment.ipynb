{
 "cells": [
  {
   "cell_type": "code",
   "execution_count": null,
   "id": "f0b260ef",
   "metadata": {},
   "outputs": [],
   "source": [
    "Q 1 write a program to accept percentage from the user\n",
    "and display the grade according to the following criteria.\n",
    "marks           grade\n",
    ">90               A\n",
    ">80 and <=90      B\n",
    ">=60 and <=80     C\n",
    "below 60          D\n",
    "Q2 write a program to accept the cost price of a bike and display the \n",
    "road tax to be paid accordingly to the criteria.\n",
    "Tax\t\t\t\tCost price(in RS)\n",
    "15%\t\t\t\t>100000\n",
    "10%\t\t\t\t>50000 and <=100000\n",
    "5%\t\t\t\t<=50000\n",
    "Q3 Accept and city from the user and display monuments of that city.\n",
    "City\t\t\t\tMonument\n",
    "Delhi\t\t\t\tRed Fort\n",
    "Agra\t\t\t\tTaj Mahal\n",
    "Jaipur \t\t\t\tJal Mahal\n",
    "Q4 check how many times a given number can divided by 3 before it is less \n",
    "than or equal to 10.\n",
    "Q5 why and when we use while loop in python give a detailed description with example.\n",
    "Q6 use nested while loop to print 3 different pattern\n",
    "Q7 Reverse a while loop to display number from 10 to 1\n"
   ]
  },
  {
   "cell_type": "code",
   "execution_count": 2,
   "id": "d29f5cf3",
   "metadata": {},
   "outputs": [
    {
     "name": "stdout",
     "output_type": "stream",
     "text": [
      "Enter your percentage: 50\n",
      "Your grade is D\n"
     ]
    }
   ],
   "source": [
    "#Q1\n",
    "percentage = float(input(\"Enter your percentage: \"))\n",
    "\n",
    "if percentage > 90:\n",
    "    grade = \"A\"\n",
    "elif percentage > 80:\n",
    "    grade = \"B\"\n",
    "elif percentage >= 60:\n",
    "    grade = \"C\"\n",
    "else:\n",
    "    grade = \"D\"\n",
    "\n",
    "print(f\"Your grade is {grade}\")\n"
   ]
  },
  {
   "cell_type": "code",
   "execution_count": 3,
   "id": "438118a8",
   "metadata": {},
   "outputs": [
    {
     "name": "stdout",
     "output_type": "stream",
     "text": [
      "Enter the cost price of the bike (in RS): 500000\n",
      "Road tax to be paid: 75000.0 RS\n"
     ]
    }
   ],
   "source": [
    "#Q2\n",
    "cost_price = float(input(\"Enter the cost price of the bike (in RS): \"))\n",
    "\n",
    "if cost_price > 100000:\n",
    "    tax_percentage = 15\n",
    "elif cost_price > 50000:\n",
    "    tax_percentage = 10\n",
    "else:\n",
    "    tax_percentage = 5\n",
    "\n",
    "road_tax = (tax_percentage / 100) * cost_price\n",
    "print(f\"Road tax to be paid: {road_tax} RS\")\n"
   ]
  },
  {
   "cell_type": "code",
   "execution_count": 4,
   "id": "fbc565f0",
   "metadata": {},
   "outputs": [
    {
     "name": "stdout",
     "output_type": "stream",
     "text": [
      "Enter a city name: Agra\n",
      "The famous monument in Agra is Taj Mahal\n"
     ]
    }
   ],
   "source": [
    "#Q3\n",
    "city = input(\"Enter a city name: \")\n",
    "\n",
    "if city == \"Delhi\":\n",
    "    monument = \"Red Fort\"\n",
    "elif city == \"Agra\":\n",
    "    monument = \"Taj Mahal\"\n",
    "elif city == \"Jaipur\":\n",
    "    monument = \"Jal Mahal\"\n",
    "else:\n",
    "    monument = \"Unknown\"\n",
    "\n",
    "print(f\"The famous monument in {city} is {monument}\")\n"
   ]
  },
  {
   "cell_type": "code",
   "execution_count": 5,
   "id": "d957bc23",
   "metadata": {},
   "outputs": [
    {
     "name": "stdout",
     "output_type": "stream",
     "text": [
      "Enter a number: 5\n",
      "The number can be divided by 3 0 times before it's less than or equal to 10.\n"
     ]
    }
   ],
   "source": [
    "#Q4\n",
    "number = int(input(\"Enter a number: \"))\n",
    "count = 0\n",
    "\n",
    "while number > 10:\n",
    "    number /= 3\n",
    "    count += 1\n",
    "\n",
    "print(f\"The number can be divided by 3 {count} times before it's less than or equal to 10.\")\n"
   ]
  },
  {
   "cell_type": "code",
   "execution_count": 7,
   "id": "7892bb2c",
   "metadata": {},
   "outputs": [
    {
     "name": "stdout",
     "output_type": "stream",
     "text": [
      "Enter a command ('quit' to exit): quit\n",
      "You entered: quit\n"
     ]
    }
   ],
   "source": [
    "#Q5\n",
    "'''While loops are used in Python when you need to repeatedly execute a block of code as long as a specified condition\n",
    "is true. It's commonly used for tasks like iterating through a sequence, performing actions until a certain condition is \n",
    "met, or handling user input. Here's an example:'''\n",
    "# Example: Keep asking for user input until they enter 'quit'\n",
    "user_input = \"\"\n",
    "while user_input != \"quit\":\n",
    "    user_input = input(\"Enter a command ('quit' to exit): \")\n",
    "    print(f\"You entered: {user_input}\")    "
   ]
  },
  {
   "cell_type": "code",
   "execution_count": 11,
   "id": "eeb553d3",
   "metadata": {},
   "outputs": [
    {
     "name": "stdout",
     "output_type": "stream",
     "text": [
      "* \n",
      "* * \n",
      "* * * \n",
      "* * * * \n",
      "* * * * * \n",
      "      * \n",
      "    * * \n",
      "  * * * \n",
      "* * * * \n",
      "      * \n",
      "    * * * \n",
      "  * * * * * \n",
      "* * * * * * * \n"
     ]
    }
   ],
   "source": [
    "#Q6\n",
    "#Pattern 1\n",
    "n = 5\n",
    "i = 1\n",
    "while i <= n:\n",
    "    j = 1\n",
    "    while j <= i:\n",
    "        print(\"*\", end=\" \")\n",
    "        j += 1\n",
    "    print()\n",
    "    i += 1\n",
    "\n",
    "#Pattern 2\n",
    "n = 4\n",
    "i = 1\n",
    "while i <= n:\n",
    "    j = 1\n",
    "    while j <= n - i:\n",
    "        print(\" \", end=\" \")\n",
    "        j += 1\n",
    "    k = 1\n",
    "    while k <= i:\n",
    "        print(\"*\", end=\" \")\n",
    "        k += 1\n",
    "    print()\n",
    "    i += 1\n",
    "    \n",
    "#Pattern 3\n",
    "n = 4\n",
    "i = 1\n",
    "while i <= n:\n",
    "    j = 1\n",
    "    while j <= n - i:\n",
    "        print(\" \", end=\" \")\n",
    "        j += 1\n",
    "    k = 1\n",
    "    while k <= 2 * i - 1:\n",
    "        print(\"*\", end=\" \")\n",
    "        k += 1\n",
    "    print()\n",
    "    i += 1\n"
   ]
  },
  {
   "cell_type": "code",
   "execution_count": 12,
   "id": "833d318e",
   "metadata": {},
   "outputs": [
    {
     "name": "stdout",
     "output_type": "stream",
     "text": [
      "10\n",
      "9\n",
      "8\n",
      "7\n",
      "6\n",
      "5\n",
      "4\n",
      "3\n",
      "2\n",
      "1\n"
     ]
    }
   ],
   "source": [
    "#7\n",
    "num = 10\n",
    "while num >= 1:\n",
    "    print(num)\n",
    "    num -= 1\n"
   ]
  },
  {
   "cell_type": "code",
   "execution_count": null,
   "id": "960b1c6f",
   "metadata": {},
   "outputs": [],
   "source": []
  }
 ],
 "metadata": {
  "kernelspec": {
   "display_name": "Python 3 (ipykernel)",
   "language": "python",
   "name": "python3"
  },
  "language_info": {
   "codemirror_mode": {
    "name": "ipython",
    "version": 3
   },
   "file_extension": ".py",
   "mimetype": "text/x-python",
   "name": "python",
   "nbconvert_exporter": "python",
   "pygments_lexer": "ipython3",
   "version": "3.11.4"
  }
 },
 "nbformat": 4,
 "nbformat_minor": 5
}
